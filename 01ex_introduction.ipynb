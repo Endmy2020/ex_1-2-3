{
 "cells": [
  {
   "cell_type": "markdown",
   "metadata": {},
   "source": [
    "1. The HelloWorld replacement\n",
    "\n",
    "a) Write a program that prints the numbers from 1 to 100. But for multiples of three print \"Hello\" instead of the number and for the multiples of five print \"World\". For numbers which are multiples of both three and five print \"HelloWorld\".\n",
    "\n",
    "b) Put the result in a tuple and substitute \"Hello\" with \"Python\" and \"World\" with \"Works\"."
   ]
  },
  {
   "cell_type": "code",
   "execution_count": 4,
   "metadata": {},
   "outputs": [
    {
     "name": "stdout",
     "output_type": "stream",
     "text": [
      "1\n",
      "2\n",
      "Hello\n",
      "4\n",
      "World\n",
      "Hello\n",
      "7\n",
      "8\n",
      "Hello\n",
      "World\n",
      "11\n",
      "Hello\n",
      "13\n",
      "14\n",
      "HelloWorld\n",
      "16\n",
      "17\n",
      "Hello\n",
      "19\n",
      "World\n",
      "Hello\n",
      "22\n",
      "23\n",
      "Hello\n",
      "World\n",
      "26\n",
      "Hello\n",
      "28\n",
      "29\n",
      "HelloWorld\n",
      "31\n",
      "32\n",
      "Hello\n",
      "34\n",
      "World\n",
      "Hello\n",
      "37\n",
      "38\n",
      "Hello\n",
      "World\n",
      "41\n",
      "Hello\n",
      "43\n",
      "44\n",
      "HelloWorld\n",
      "46\n",
      "47\n",
      "Hello\n",
      "49\n",
      "World\n",
      "Hello\n",
      "52\n",
      "53\n",
      "Hello\n",
      "World\n",
      "56\n",
      "Hello\n",
      "58\n",
      "59\n",
      "HelloWorld\n",
      "61\n",
      "62\n",
      "Hello\n",
      "64\n",
      "World\n",
      "Hello\n",
      "67\n",
      "68\n",
      "Hello\n",
      "World\n",
      "71\n",
      "Hello\n",
      "73\n",
      "74\n",
      "HelloWorld\n",
      "76\n",
      "77\n",
      "Hello\n",
      "79\n",
      "World\n",
      "Hello\n",
      "82\n",
      "83\n",
      "Hello\n",
      "World\n",
      "86\n",
      "Hello\n",
      "88\n",
      "89\n",
      "HelloWorld\n",
      "91\n",
      "92\n",
      "Hello\n",
      "94\n",
      "World\n",
      "Hello\n",
      "97\n",
      "98\n",
      "Hello\n",
      "World\n"
     ]
    }
   ],
   "source": [
    "#a\n",
    "for i in range(1,101):\n",
    "    if i%15 == 0: \n",
    "        print(\"HelloWorld\")\n",
    "    elif i%5 == 0:\n",
    "        print(\"World\")\n",
    "    elif i%3 == 0:\n",
    "        print(\"Hello\")\n",
    "    else:\n",
    "        print(i)"
   ]
  },
  {
   "cell_type": "markdown",
   "metadata": {},
   "source": [
    "2\\. The swap function\n",
    "\n",
    "Write a function that swap the values of two input variables x and y (whatever the type). Try to do that also without a temporary variable"
   ]
  },
  {
   "cell_type": "code",
   "execution_count": 5,
   "metadata": {},
   "outputs": [
    {
     "data": {
      "text/plain": [
       "(10, 5)"
      ]
     },
     "execution_count": 5,
     "metadata": {},
     "output_type": "execute_result"
    }
   ],
   "source": [
    "def swap_func(x,y):\n",
    "    x,y = y,x\n",
    "    return x,y\n",
    "\n",
    "swap_func(5,10)"
   ]
  },
  {
   "cell_type": "markdown",
   "metadata": {},
   "source": [
    "3\\. Computing the distance\n",
    "\n",
    "Write a function that calculates and returns the euclidean distance between two points *u* and *v*, where *u* and *v* are both 2-tuples *(x,y)*. For example, if *u=(3,0)* and *v=(0,4)*, the function should return 5"
   ]
  },
  {
   "cell_type": "code",
   "execution_count": 11,
   "metadata": {},
   "outputs": [
    {
     "data": {
      "text/plain": [
       "5.0"
      ]
     },
     "execution_count": 11,
     "metadata": {},
     "output_type": "execute_result"
    }
   ],
   "source": [
    "def distance(u,v):\n",
    "    (x1 , y1) = u\n",
    "    (x2 , y2) = v\n",
    "    return (((x2-x1)**2)+(y2-y1)**2)**(1/2)\n",
    "\n",
    "distance((3,0),(0,4))"
   ]
  },
  {
   "cell_type": "code",
   "execution_count": 3,
   "metadata": {},
   "outputs": [
    {
     "data": {
      "text/plain": [
       "5.0"
      ]
     },
     "execution_count": 3,
     "metadata": {},
     "output_type": "execute_result"
    }
   ],
   "source": [
    "def distance(u,v):\n",
    "    (x1 , y1) = u\n",
    "    (x2 , y2) = v\n",
    "    return (((x2-x1)**2)+(y2-y1)**2)**(1/2)\n",
    "    \n",
    "distance((3,0),(0,4))"
   ]
  },
  {
   "cell_type": "markdown",
   "metadata": {},
   "source": [
    "4\\. Counting letters\n",
    "\n",
    "Write a program to calculate the number of times each character occurs in a given string *s*. Ignore differences in capitalization"
   ]
  },
  {
   "cell_type": "code",
   "execution_count": 1,
   "metadata": {},
   "outputs": [
    {
     "name": "stdout",
     "output_type": "stream",
     "text": [
      "Occurrencies of every character:\n",
      "f 10\n",
      "y 2\n",
      "i 14\n",
      "0 2\n",
      "r 17\n",
      ". 2\n",
      "c 3\n",
      "  41\n",
      "w 2\n",
      "1 2\n",
      "h 9\n",
      "k 2\n",
      "b 5\n",
      "l 6\n",
      "s 9\n",
      "n 10\n",
      "t 19\n",
      "e 22\n",
      "g 1\n",
      "m 12\n",
      "v 2\n",
      "p 8\n",
      "a 7\n",
      "o 13\n",
      "u 9\n",
      "d 3\n"
     ]
    }
   ],
   "source": [
    "s=\"Write a program that prints the numbers from 1 to 100. \\\n",
    "But for multiples of three print Mickey instead of the number and for the multiples of five print Mouse. \\\n",
    "For numbers which are multiples of both three and five print MickeyMouse\"\n",
    "\n",
    "s = s.lower()\n",
    "chars = list(set(list(s)))\n",
    "\n",
    "occurrencies = [s.count(char) for char in chars]\n",
    "\n",
    "print(\"Occurrencies of every character:\")\n",
    "\n",
    "for i in  range(len(chars)):\n",
    "    print(chars[i], occurrencies[i])\n",
    "\n"
   ]
  },
  {
   "cell_type": "markdown",
   "metadata": {},
   "source": [
    "5\\. Isolating the unique\n",
    "\n",
    "Write a function that determines and count the unique numbers in the list:"
   ]
  },
  {
   "cell_type": "code",
   "execution_count": 30,
   "metadata": {},
   "outputs": [
    {
     "name": "stdout",
     "output_type": "stream",
     "text": [
      "{1, 3, 5, 8, 9, 10, 16, 18, 19, 20, 24, 30, 31, 33, 34, 36, 37, 39, 41, 42, 45, 47, 50, 51, 53, 54, 55, 56, 57, 58, 63, 64, 66, 70, 72, 74, 75, 79, 81, 82, 84, 85, 86, 87, 88, 89, 90, 91, 92, 94, 95, 96, 98, 99}\n",
      "80\n",
      "54\n"
     ]
    }
   ],
   "source": [
    "l = [36, 45, 58, 3, 74, 96, 64, 45, 31, 10, 24, 19, 33, 86, 99, 18, 63, 70, 85,\n",
    " 85, 63, 47, 56, 42, 70, 84, 88, 55, 20, 54, 8, 56, 51, 79, 81, 57, 37, 91,\n",
    " 1, 84, 84, 36, 66, 9, 89, 50, 42, 91, 50, 95, 90, 98, 39, 16, 82, 31, 92, 41,\n",
    " 45, 30, 66, 70, 34, 85, 94, 5, 3, 36, 72, 91, 84, 34, 87, 75, 53, 51, 20, 89, 51, 20]\n",
    "\n",
    "unique_number = set(l)\n",
    "print(unique_number)\n",
    "\n",
    "print(len(l))\n",
    "print(len(unique_number))"
   ]
  },
  {
   "cell_type": "markdown",
   "metadata": {},
   "source": [
    "Do the same without using user-defined functions, but exploiting only the Python data structures."
   ]
  },
  {
   "cell_type": "markdown",
   "metadata": {},
   "source": [
    "6\\. Combination of functions\n",
    "\n",
    "Write two functions - one that returns the square of a number, and one that returns the cube. Now write a third function that returns the number raised to the 6th power using the two previous functions."
   ]
  },
  {
   "cell_type": "code",
   "execution_count": 17,
   "metadata": {},
   "outputs": [
    {
     "data": {
      "text/plain": [
       "64"
      ]
     },
     "execution_count": 17,
     "metadata": {},
     "output_type": "execute_result"
    }
   ],
   "source": [
    "def square_func(x):\n",
    "    return x**2\n",
    "def cube_func(x):\n",
    "    return x**3\n",
    "def six_power_func(x):\n",
    "    return square_func(cube_func(x))\n",
    "six_power_func(2)"
   ]
  },
  {
   "cell_type": "code",
   "execution_count": 38,
   "metadata": {},
   "outputs": [
    {
     "data": {
      "text/plain": [
       "16"
      ]
     },
     "execution_count": 38,
     "metadata": {},
     "output_type": "execute_result"
    }
   ],
   "source": [
    "square_func(square_func(2))"
   ]
  },
  {
   "cell_type": "markdown",
   "metadata": {},
   "source": [
    "7\\. Cubes\n",
    "\n",
    "Create a list of the cubes of x for x in *[0, 10]* using:\n",
    "\n",
    "a) a for loop\n",
    "\n",
    "b) a list comprehension"
   ]
  },
  {
   "cell_type": "code",
   "execution_count": 18,
   "metadata": {},
   "outputs": [
    {
     "data": {
      "text/plain": [
       "[0, 1, 8, 27, 64, 125, 216, 343, 512, 729, 1000]"
      ]
     },
     "execution_count": 18,
     "metadata": {},
     "output_type": "execute_result"
    }
   ],
   "source": [
    "list_1 = []\n",
    "for x in range(0,11):\n",
    "    list_1.append(x**3)\n",
    "    \n",
    "#list compres\n",
    "[x**3 for x in range(0,11)]"
   ]
  },
  {
   "cell_type": "markdown",
   "metadata": {},
   "source": [
    "8\\. Nested list comprehension\n",
    "\n",
    "A Pythagorean triple is an integer solution to the Pythagorean theorem $a^2+b^2=c^2$. The first Pythagorean triple is (3,4,5). Find and put in a tuple all unique Pythagorean triples for the positive integers a, b and c less than 100."
   ]
  },
  {
   "cell_type": "code",
   "execution_count": 56,
   "metadata": {},
   "outputs": [
    {
     "data": {
      "text/plain": [
       "[(3, 4, 5),\n",
       " (4, 3, 5),\n",
       " (5, 12, 13),\n",
       " (6, 8, 10),\n",
       " (7, 24, 25),\n",
       " (8, 6, 10),\n",
       " (8, 15, 17),\n",
       " (9, 12, 15),\n",
       " (9, 40, 41),\n",
       " (10, 24, 26),\n",
       " (11, 60, 61),\n",
       " (12, 5, 13),\n",
       " (12, 9, 15),\n",
       " (12, 16, 20),\n",
       " (12, 35, 37),\n",
       " (13, 84, 85),\n",
       " (14, 48, 50),\n",
       " (15, 8, 17),\n",
       " (15, 20, 25),\n",
       " (15, 36, 39),\n",
       " (16, 12, 20),\n",
       " (16, 30, 34),\n",
       " (16, 63, 65),\n",
       " (18, 24, 30),\n",
       " (18, 80, 82),\n",
       " (20, 15, 25),\n",
       " (20, 21, 29),\n",
       " (20, 48, 52),\n",
       " (21, 20, 29),\n",
       " (21, 28, 35),\n",
       " (21, 72, 75),\n",
       " (24, 7, 25),\n",
       " (24, 10, 26),\n",
       " (24, 18, 30),\n",
       " (24, 32, 40),\n",
       " (24, 45, 51),\n",
       " (24, 70, 74),\n",
       " (25, 60, 65),\n",
       " (27, 36, 45),\n",
       " (28, 21, 35),\n",
       " (28, 45, 53),\n",
       " (28, 96, 100),\n",
       " (30, 16, 34),\n",
       " (30, 40, 50),\n",
       " (30, 72, 78),\n",
       " (32, 24, 40),\n",
       " (32, 60, 68),\n",
       " (33, 44, 55),\n",
       " (33, 56, 65),\n",
       " (35, 12, 37),\n",
       " (35, 84, 91),\n",
       " (36, 15, 39),\n",
       " (36, 27, 45),\n",
       " (36, 48, 60),\n",
       " (36, 77, 85),\n",
       " (39, 52, 65),\n",
       " (39, 80, 89),\n",
       " (40, 9, 41),\n",
       " (40, 30, 50),\n",
       " (40, 42, 58),\n",
       " (40, 75, 85),\n",
       " (42, 40, 58),\n",
       " (42, 56, 70),\n",
       " (44, 33, 55),\n",
       " (45, 24, 51),\n",
       " (45, 28, 53),\n",
       " (45, 60, 75),\n",
       " (48, 14, 50),\n",
       " (48, 20, 52),\n",
       " (48, 36, 60),\n",
       " (48, 55, 73),\n",
       " (48, 64, 80),\n",
       " (51, 68, 85),\n",
       " (52, 39, 65),\n",
       " (54, 72, 90),\n",
       " (55, 48, 73),\n",
       " (56, 33, 65),\n",
       " (56, 42, 70),\n",
       " (57, 76, 95),\n",
       " (60, 11, 61),\n",
       " (60, 25, 65),\n",
       " (60, 32, 68),\n",
       " (60, 45, 75),\n",
       " (60, 63, 87),\n",
       " (60, 80, 100),\n",
       " (63, 16, 65),\n",
       " (63, 60, 87),\n",
       " (64, 48, 80),\n",
       " (65, 72, 97),\n",
       " (68, 51, 85),\n",
       " (70, 24, 74),\n",
       " (72, 21, 75),\n",
       " (72, 30, 78),\n",
       " (72, 54, 90),\n",
       " (72, 65, 97),\n",
       " (75, 40, 85),\n",
       " (76, 57, 95),\n",
       " (77, 36, 85),\n",
       " (80, 18, 82),\n",
       " (80, 39, 89),\n",
       " (80, 60, 100),\n",
       " (84, 13, 85),\n",
       " (84, 35, 91),\n",
       " (96, 28, 100)]"
      ]
     },
     "execution_count": 56,
     "metadata": {},
     "output_type": "execute_result"
    }
   ],
   "source": [
    "[(a,b,c) for a in range(0,101) for b in range(0,101) for c in range(0,101) if c**2==a**2+b**2 and c!=a and b!=a and c!=b]"
   ]
  },
  {
   "cell_type": "markdown",
   "metadata": {},
   "source": [
    "9\\. Normalization\n",
    "\n",
    "Write a function that takes a tuple of numbers and returns it with the entries normalized to one"
   ]
  },
  {
   "cell_type": "code",
   "execution_count": 72,
   "metadata": {},
   "outputs": [
    {
     "data": {
      "text/plain": [
       "(0.1, 0.3, 0.5, 0.6, 1.0)"
      ]
     },
     "execution_count": 72,
     "metadata": {},
     "output_type": "execute_result"
    }
   ],
   "source": [
    "def normalization(v):\n",
    "    tem_tup = []\n",
    "    for i in range(len(v)):\n",
    "        tem_tup.append(v[i]/max(v))\n",
    "    return tuple(tem_tup)\n",
    "        \n",
    "tup1 = (1, 3, 5 ,6 ,10)\n",
    "\n",
    "normalization(tup1)\n"
   ]
  },
  {
   "cell_type": "code",
   "execution_count": null,
   "metadata": {},
   "outputs": [],
   "source": []
  }
 ],
 "metadata": {
  "kernelspec": {
   "display_name": "Python 3",
   "language": "python",
   "name": "python3"
  },
  "language_info": {
   "codemirror_mode": {
    "name": "ipython",
    "version": 3
   },
   "file_extension": ".py",
   "mimetype": "text/x-python",
   "name": "python",
   "nbconvert_exporter": "python",
   "pygments_lexer": "ipython3",
   "version": "3.8.8"
  }
 },
 "nbformat": 4,
 "nbformat_minor": 2
}
